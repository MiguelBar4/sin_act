{
  "cells": [
    {
      "cell_type": "markdown",
      "metadata": {
        "id": "bbWJns2fFykz"
      },
      "source": [
        "# Regresio logistica aplicada a digits\n",
        "\n"
      ]
    },
    {
      "cell_type": "code",
      "execution_count": 1,
      "metadata": {
        "id": "_j_niaIAFyk3"
      },
      "outputs": [],
      "source": [
        "import numpy as np; from sklearn.datasets import load_digits\n",
        "from sklearn.model_selection import train_test_split\n",
        "digits = load_digits(); X = digits.data.astype(np.float16); X /= X.max()\n",
        "y = digits.target.astype(np.uint)\n",
        "X_train, X_test, y_train, y_test = train_test_split(X, y, test_size=0.2, shuffle=True, random_state=23)#prticio de test"
      ]
    },
    {
      "cell_type": "code",
      "execution_count": 2,
      "metadata": {
        "id": "FU7XBxdFFyk4"
      },
      "outputs": [],
      "source": [
        "import warnings; from sklearn.exceptions import ConvergenceWarning\n",
        "warnings.filterwarnings(\"ignore\", category=ConvergenceWarning, module=\"sklearn\")"
      ]
    },
    {
      "cell_type": "markdown",
      "metadata": {
        "id": "eRK8YyYsFyk5"
      },
      "source": [
        "\n"
      ]
    },
    {
      "cell_type": "code",
      "execution_count": 4,
      "metadata": {
        "colab": {
          "base_uri": "https://localhost:8080/"
        },
        "id": "mma9bPz6Fyk5",
        "outputId": "484cfc37-8946-42fe-a926-4627efc447ba"
      },
      "outputs": [
        {
          "output_type": "stream",
          "name": "stdout",
          "text": [
            "Error de test: 3.1%\n"
          ]
        }
      ],
      "source": [
        "from sklearn.linear_model import LogisticRegression\n",
        "from sklearn.metrics import accuracy_score  #calcular preciso\n",
        "clf = LogisticRegression(random_state=23).fit(X_train, y_train) # on esta random es fiquen els datos que vosl,, clf torna un objecte de tipo clasificador\n",
        "y_test_pred = clf.predict(X_test)# obtenim la prediccio de les mostres del test\n",
        "err_test = 1 - accuracy_score(y_test, clf.predict(X_test))\n",
        "print(f\"Error de test: {err_test:.1%}\")"
      ]
    },
    {
      "cell_type": "code",
      "source": [
        "for solver in ['lbfgs', 'liblinear', 'newton-cg', 'newton-cholesky', 'sag', 'saga']:#exloracio parametre solver moLT IMPORTANT\n",
        "    clf = LogisticRegression(random_state=23, solver=solver, max_iter=10000).fit(X_train, y_train)# iterracion molt elevant per assegurarte que converguix,, poques mostres es veu pos, per a lexamen demana probar diferents valos de talerancia, de solver\n",
        "    err_test = 1 - accuracy_score(y_test, clf.predict(X_test))\n",
        "    print(f\"Error de test després d'entrenar amb el solver {solver!s}: {err_test:.1%}\")"
      ],
      "metadata": {
        "colab": {
          "base_uri": "https://localhost:8080/"
        },
        "id": "jB4s1zxFG053",
        "outputId": "256e412f-3180-4fa7-f51d-7d98f30b03e4"
      },
      "execution_count": 5,
      "outputs": [
        {
          "output_type": "stream",
          "name": "stdout",
          "text": [
            "Error de test després d'entrenar amb el solver lbfgs: 3.1%\n",
            "Error de test després d'entrenar amb el solver liblinear: 3.9%\n",
            "Error de test després d'entrenar amb el solver newton-cg: 3.1%\n",
            "Error de test després d'entrenar amb el solver newton-cholesky: 4.4%\n",
            "Error de test després d'entrenar amb el solver sag: 3.1%\n",
            "Error de test després d'entrenar amb el solver saga: 3.1%\n"
          ]
        }
      ]
    },
    {
      "cell_type": "code",
      "source": [
        "for tol in (1e-4, 1e-2, 1, 1e2, 1e4):\n",
        "    clf = LogisticRegression(tol=tol, random_state=23, max_iter=10000).fit(X_train, y_train)\n",
        "    err_test = 1 - accuracy_score(y_test, clf.predict(X_test))\n",
        "    print(f\"Error de test amb tolerància {tol}: {err_test:.1%}\")"
      ],
      "metadata": {
        "colab": {
          "base_uri": "https://localhost:8080/"
        },
        "id": "SwqrqIxrG8YP",
        "outputId": "2598327d-41bc-484b-f618-e362cb57e1d6"
      },
      "execution_count": 6,
      "outputs": [
        {
          "output_type": "stream",
          "name": "stdout",
          "text": [
            "Error de test amb tolerància 0.0001: 3.1%\n",
            "Error de test amb tolerància 0.01: 3.1%\n",
            "Error de test amb tolerància 1: 2.8%\n",
            "Error de test amb tolerància 100.0: 91.7%\n",
            "Error de test amb tolerància 10000.0: 91.7%\n"
          ]
        }
      ]
    },
    {
      "cell_type": "markdown",
      "source": [
        "hem ajustat els valos, cambiant el de per defecte y hem consegut un valor millor a els valor per defecte\n"
      ],
      "metadata": {
        "id": "Q-z09j6FHJmf"
      }
    },
    {
      "cell_type": "code",
      "source": [
        "for C in (1e-2, 1e-1, 1, 1e1, 1e2):#parametre c, desregularitza el criteri de entrenament, amb valor proper a 0 posibilitat de sobre ajsut, el model s'ajusta massa a les dades , anira mal, valor per defecte 1\n",
        "    clf = LogisticRegression(C=C, random_state=23, max_iter=10000).fit(X_train, y_train)\n",
        "    err_test = 1 - accuracy_score(y_test, clf.predict(X_test))\n",
        "    print(f\"Error de test amb C {C:g}: {err_test:.1%}\")"
      ],
      "metadata": {
        "colab": {
          "base_uri": "https://localhost:8080/"
        },
        "id": "IA543jaPHzjo",
        "outputId": "ab678ab3-7c39-43a0-cc23-33ae2f0adb97"
      },
      "execution_count": 7,
      "outputs": [
        {
          "output_type": "stream",
          "name": "stdout",
          "text": [
            "Error de test amb C 0.01: 11.1%\n",
            "Error de test amb C 0.1: 5.6%\n",
            "Error de test amb C 1: 3.1%\n",
            "Error de test amb C 10: 3.1%\n",
            "Error de test amb C 100: 3.6%\n"
          ]
        }
      ]
    },
    {
      "cell_type": "code",
      "source": [
        "for max_iter in (10, 20, 50, 100,1000,10000):\n",
        "    clf = LogisticRegression(random_state=23, max_iter=max_iter).fit(X_train, y_train)\n",
        "    err_test = 1 - accuracy_score(y_test, clf.predict(X_test))\n",
        "    print(f\"Error de test amb max_iter {max_iter}: {err_test:.1%}\")"
      ],
      "metadata": {
        "colab": {
          "base_uri": "https://localhost:8080/"
        },
        "id": "gtcHA4azIDWN",
        "outputId": "3cb8bf6c-f569-4039-d657-195a456c840c"
      },
      "execution_count": 9,
      "outputs": [
        {
          "output_type": "stream",
          "name": "stdout",
          "text": [
            "Error de test amb max_iter 10: 4.4%\n",
            "Error de test amb max_iter 20: 3.9%\n",
            "Error de test amb max_iter 50: 3.1%\n",
            "Error de test amb max_iter 100: 3.1%\n",
            "Error de test amb max_iter 1000: 3.1%\n",
            "Error de test amb max_iter 10000: 3.1%\n"
          ]
        }
      ]
    }
  ],
  "metadata": {
    "kernelspec": {
      "display_name": "Python 3",
      "language": "python",
      "name": "python3"
    },
    "language_info": {
      "codemirror_mode": {
        "name": "ipython",
        "version": 3
      },
      "file_extension": ".py",
      "mimetype": "text/x-python",
      "name": "python",
      "nbconvert_exporter": "python",
      "pygments_lexer": "ipython3",
      "version": "3.10.12"
    },
    "vscode": {
      "interpreter": {
        "hash": "e7370f93d1d0cde622a1f8e1c04877d8463912d04d973331ad4851f04de6915a"
      }
    },
    "colab": {
      "provenance": []
    }
  },
  "nbformat": 4,
  "nbformat_minor": 0
}