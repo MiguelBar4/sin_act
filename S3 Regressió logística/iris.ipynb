{
  "cells": [
    {
      "cell_type": "markdown",
      "metadata": {
        "id": "RmaUOQUY_hLl"
      },
      "source": [
        "# Regressió logística aplicada a iris"
      ]
    },
    {
      "cell_type": "markdown",
      "metadata": {
        "id": "T7ayWzRQ_hLo"
      },
      "source": [
        "**Lectura del corpus i partició:**"
      ]
    },
    {
      "cell_type": "code",
      "execution_count": 2,
      "metadata": {
        "id": "abLSEzXn_hLp"
      },
      "outputs": [],
      "source": [
        "import numpy as np; from sklearn.datasets import load_iris\n",
        "from sklearn.model_selection import train_test_split\n",
        "iris = load_iris(); X = iris.data.astype(np.float16); y = iris.target.astype(np.uint)\n",
        "X_train, X_test, y_train, y_test = train_test_split(X, y, test_size=0.2, shuffle=True, random_state=23)#prticio de test"
      ]
    },
    {
      "cell_type": "markdown",
      "metadata": {
        "id": "jxxTJ1fU_hLq"
      },
      "source": [
        "**LogisticRegression:** $\\;$ implementació de regressió logística en sklearn"
      ]
    },
    {
      "cell_type": "code",
      "execution_count": 5,
      "metadata": {
        "id": "i-bMn_M-_hLr",
        "outputId": "91376a3e-ca6d-4bdd-8f80-4f58ce15d757",
        "colab": {
          "base_uri": "https://localhost:8080/"
        }
      },
      "outputs": [
        {
          "output_type": "stream",
          "name": "stdout",
          "text": [
            "Error de test: 0.0%\n"
          ]
        }
      ],
      "source": [
        "from sklearn.linear_model import LogisticRegression\n",
        "from sklearn.metrics import accuracy_score  #calcular preciso\n",
        "clf = LogisticRegression(random_state=23).fit(X_train, y_train) # on esta random es fiquen els datos que vosl,, clf torna un objecte de tipo clasificador\n",
        "y_test_pred = clf.predict(X_test)# obtenim la prediccio de les mostres del test\n",
        "err_test = 1 - accuracy_score(y_test_pred, clf.predict(X_test))\n",
        "print(f\"Error de test: {err_test:.1%}\")"
      ]
    },
    {
      "cell_type": "markdown",
      "metadata": {
        "id": "rOriPydK_hLs"
      },
      "source": [
        "**Warnings:** $\\;$ sklearn és un poc \"llandós\" amb el warnings; ignorarem els avisos sobre convergència"
      ]
    },
    {
      "cell_type": "code",
      "execution_count": 6,
      "metadata": {
        "id": "TtYGGyvS_hLs"
      },
      "outputs": [],
      "source": [
        "import warnings; from sklearn.exceptions import ConvergenceWarning\n",
        "warnings.filterwarnings(\"ignore\", category=ConvergenceWarning, module=\"sklearn\") #ignorem avisos"
      ]
    },
    {
      "cell_type": "markdown",
      "metadata": {
        "id": "f2XNbiYr_hLt"
      },
      "source": [
        "**Solvers:** $\\;$ el paràmetre `solver` de LogisticRegression permet triar entre diferents solvers (algorismes d'optimització)"
      ]
    },
    {
      "cell_type": "code",
      "execution_count": 7,
      "metadata": {
        "id": "D2rH5qDN_hLt",
        "outputId": "a370a71f-d49b-4ae7-cab2-572072852990",
        "colab": {
          "base_uri": "https://localhost:8080/"
        }
      },
      "outputs": [
        {
          "output_type": "stream",
          "name": "stdout",
          "text": [
            "Error de test després d'entrenar amb el solver lbfgs: 0.0%\n",
            "Error de test després d'entrenar amb el solver liblinear: 3.3%\n",
            "Error de test després d'entrenar amb el solver newton-cg: 0.0%\n",
            "Error de test després d'entrenar amb el solver newton-cholesky: 3.3%\n",
            "Error de test després d'entrenar amb el solver sag: 0.0%\n",
            "Error de test després d'entrenar amb el solver saga: 0.0%\n"
          ]
        }
      ],
      "source": [
        "for solver in ['lbfgs', 'liblinear', 'newton-cg', 'newton-cholesky', 'sag', 'saga']:#exloracio parametre solver moLT IMPORTANT\n",
        "    clf = LogisticRegression(random_state=23, solver=solver, max_iter=10000).fit(X_train, y_train)# iterracion molt elevant per assegurarte que converguix,, poques mostres es veu pos, per a lexamen demana probar diferents valos de talerancia, de solver\n",
        "    err_test = 1 - accuracy_score(y_test, clf.predict(X_test))\n",
        "    print(f\"Error de test després d'entrenar amb el solver {solver!s}: {err_test:.1%}\")"
      ]
    },
    {
      "cell_type": "markdown",
      "metadata": {
        "id": "qlbJQ2Mo_hLu"
      },
      "source": [
        "**Tolerància:** $\\;$ el paràmetre `tol` estableix un llindar de tolerància per a acabar l'entrenament (1e4 per omissió)"
      ]
    },
    {
      "cell_type": "code",
      "execution_count": 8,
      "metadata": {
        "id": "OkqIV0P1_hLu",
        "outputId": "46b4a694-50f5-4150-eb1b-3619a5817171",
        "colab": {
          "base_uri": "https://localhost:8080/"
        }
      },
      "outputs": [
        {
          "output_type": "stream",
          "name": "stdout",
          "text": [
            "Error de test amb tolerància 0.0001: 0.0%\n",
            "Error de test amb tolerància 0.01: 0.0%\n",
            "Error de test amb tolerància 1: 0.0%\n",
            "Error de test amb tolerància 100.0: 60.0%\n",
            "Error de test amb tolerància 10000.0: 60.0%\n"
          ]
        }
      ],
      "source": [
        "for tol in (1e-4, 1e-2, 1, 1e2, 1e4):\n",
        "    clf = LogisticRegression(tol=tol, random_state=23, max_iter=10000).fit(X_train, y_train)\n",
        "    err_test = 1 - accuracy_score(y_test, clf.predict(X_test))\n",
        "    print(f\"Error de test amb tolerància {tol}: {err_test:.1%}\")"
      ]
    },
    {
      "cell_type": "markdown",
      "metadata": {
        "id": "-wUqmbYr_hLu"
      },
      "source": [
        "**Regularització:** $\\;$ el paràmetre `C` (positiu, $1.0$ per omissió) des-regularitza el criteri d'entrenament\n",
        "* **Possibilitat de subajust:** $\\;$ amb un valor pròxim a zero (màxima regularització)\n",
        "* **Possibilitat de sobreajust:** $\\;$ amb un valor positiu molt alt (mínima regularització)"
      ]
    },
    {
      "cell_type": "code",
      "execution_count": 9,
      "metadata": {
        "id": "d-obt1Yo_hLu",
        "outputId": "1ca81bcd-9508-4e7d-a8f8-db112a1c898e",
        "colab": {
          "base_uri": "https://localhost:8080/"
        }
      },
      "outputs": [
        {
          "output_type": "stream",
          "name": "stdout",
          "text": [
            "Error de test amb C 0.01: 6.7%\n",
            "Error de test amb C 0.1: 3.3%\n",
            "Error de test amb C 1: 0.0%\n",
            "Error de test amb C 10: 3.3%\n",
            "Error de test amb C 100: 3.3%\n"
          ]
        }
      ],
      "source": [
        "for C in (1e-2, 1e-1, 1, 1e1, 1e2):#parametre c, desregularitza el criteri de entrenament, amb valor proper a 0 posibilitat de sobre ajsut, el model s'ajusta massa a les dades , anira mal, valor per defecte 1\n",
        "    clf = LogisticRegression(C=C, random_state=23, max_iter=10000).fit(X_train, y_train)\n",
        "    err_test = 1 - accuracy_score(y_test, clf.predict(X_test))\n",
        "    print(f\"Error de test amb C {C:g}: {err_test:.1%}\")"
      ]
    },
    {
      "cell_type": "markdown",
      "metadata": {
        "id": "XsGTK8EO_hLv"
      },
      "source": [
        "**Early stopping:** $\\;$ estaviem càlcul i evitem sobre-entrenament (\"regularitzem\") acabant prompte (en poques iteracions)"
      ]
    },
    {
      "cell_type": "code",
      "execution_count": null,
      "metadata": {
        "id": "Xibo09II_hLv",
        "outputId": "32bd7de6-8836-4d03-c05c-e9ae8ead9223"
      },
      "outputs": [
        {
          "name": "stdout",
          "output_type": "stream",
          "text": [
            "Error de test amb max_iter 10: 0.0%\n",
            "Error de test amb max_iter 20: 3.3%\n",
            "Error de test amb max_iter 50: 0.0%\n",
            "Error de test amb max_iter 100: 0.0%\n"
          ]
        }
      ],
      "source": [
        "for max_iter in (10, 20, 50, 100):\n",
        "    clf = LogisticRegression(random_state=23, max_iter=max_iter).fit(X_train, y_train)\n",
        "    err_test = 1 - accuracy_score(y_test, clf.predict(X_test))\n",
        "    print(f\"Error de test amb max_iter {max_iter}: {err_test:.1%}\")"
      ]
    }
  ],
  "metadata": {
    "kernelspec": {
      "display_name": "Python 3",
      "language": "python",
      "name": "python3"
    },
    "language_info": {
      "codemirror_mode": {
        "name": "ipython",
        "version": 3
      },
      "file_extension": ".py",
      "mimetype": "text/x-python",
      "name": "python",
      "nbconvert_exporter": "python",
      "pygments_lexer": "ipython3",
      "version": "3.11.4"
    },
    "orig_nbformat": 4,
    "colab": {
      "provenance": []
    }
  },
  "nbformat": 4,
  "nbformat_minor": 0
}