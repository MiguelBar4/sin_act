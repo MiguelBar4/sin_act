{
  "cells": [
    {
      "cell_type": "markdown",
      "metadata": {
        "id": "bbWJns2fFykz"
      },
      "source": [
        "# Regresio logistica aplicada a openml,balance-scale\n",
        "\n",
        "\n"
      ]
    },
    {
      "cell_type": "code",
      "source": [
        "import warnings; warnings.filterwarnings(\"ignore\"); import numpy as np\n",
        "from sklearn.datasets import fetch_openml\n",
        "from sklearn.model_selection import train_test_split"
      ],
      "metadata": {
        "id": "_mrbLBK0Lk7A"
      },
      "execution_count": 3,
      "outputs": []
    },
    {
      "cell_type": "code",
      "execution_count": 4,
      "metadata": {
        "id": "_j_niaIAFyk3"
      },
      "outputs": [],
      "source": [
        "data_id = 11;\n",
        "X,y = fetch_openml(data_id=data_id,return_X_y=True, as_frame=False)\n",
        "mask = ~np.isnan(X).any(axis=1); X = X[mask, :]; y = y[mask]\n",
        "X_train, X_test, y_train, y_test = train_test_split(X, y, test_size=0.2, shuffle=True, random_state=23)#prticio de test"
      ]
    },
    {
      "cell_type": "markdown",
      "metadata": {
        "id": "eRK8YyYsFyk5"
      },
      "source": [
        "\n"
      ]
    },
    {
      "cell_type": "code",
      "execution_count": 5,
      "metadata": {
        "colab": {
          "base_uri": "https://localhost:8080/"
        },
        "id": "mma9bPz6Fyk5",
        "outputId": "cf435aed-18c6-49d3-cdcc-ae0e79442f01"
      },
      "outputs": [
        {
          "output_type": "stream",
          "name": "stdout",
          "text": [
            "Error de test: 0.0%\n"
          ]
        }
      ],
      "source": [
        "from sklearn.linear_model import LogisticRegression\n",
        "from sklearn.metrics import accuracy_score  #calcular preciso\n",
        "clf = LogisticRegression(random_state=23).fit(X_train, y_train) # on esta random es fiquen els datos que vosl,, clf torna un objecte de tipo clasificador\n",
        "y_test_pred = clf.predict(X_test)# obtenim la prediccio de les mostres del test\n",
        "err_test = 1 - accuracy_score(y_test_pred, clf.predict(X_test))\n",
        "print(f\"Error de test: {err_test:.1%}\")"
      ]
    },
    {
      "cell_type": "code",
      "source": [
        "for solver in ['lbfgs', 'liblinear', 'newton-cg', 'newton-cholesky', 'sag', 'saga']:#exloracio parametre solver moLT IMPORTANT\n",
        "    clf = LogisticRegression(random_state=23, solver=solver, max_iter=10000).fit(X_train, y_train)# iterracion molt elevant per assegurarte que converguix,, poques mostres es veu pos, per a lexamen demana probar diferents valos de talerancia, de solver\n",
        "    err_test = 1 - accuracy_score(y_test, clf.predict(X_test))\n",
        "    print(f\"Error de test després d'entrenar amb el solver {solver!s}: {err_test:.1%}\")"
      ],
      "metadata": {
        "colab": {
          "base_uri": "https://localhost:8080/"
        },
        "id": "jB4s1zxFG053",
        "outputId": "b20147e5-de76-46e7-c39c-6acf1c8feda0"
      },
      "execution_count": 6,
      "outputs": [
        {
          "output_type": "stream",
          "name": "stdout",
          "text": [
            "Error de test després d'entrenar amb el solver lbfgs: 8.8%\n",
            "Error de test després d'entrenar amb el solver liblinear: 9.6%\n",
            "Error de test després d'entrenar amb el solver newton-cg: 8.8%\n",
            "Error de test després d'entrenar amb el solver newton-cholesky: 10.4%\n",
            "Error de test després d'entrenar amb el solver sag: 8.8%\n",
            "Error de test després d'entrenar amb el solver saga: 8.8%\n"
          ]
        }
      ]
    },
    {
      "cell_type": "code",
      "source": [
        "for tol in (1e-4, 1e-2, 1, 1e2, 1e4):\n",
        "    clf = LogisticRegression(tol=tol, random_state=23, max_iter=10000).fit(X_train, y_train)\n",
        "    err_test = 1 - accuracy_score(y_test, clf.predict(X_test))\n",
        "    print(f\"Error de test amb tolerància {tol}: {err_test:.1%}\")"
      ],
      "metadata": {
        "colab": {
          "base_uri": "https://localhost:8080/"
        },
        "id": "SwqrqIxrG8YP",
        "outputId": "47b21be1-6fac-4886-f676-6c735b2fc70d"
      },
      "execution_count": 7,
      "outputs": [
        {
          "output_type": "stream",
          "name": "stdout",
          "text": [
            "Error de test amb tolerància 0.0001: 8.8%\n",
            "Error de test amb tolerància 0.01: 8.8%\n",
            "Error de test amb tolerància 1: 9.6%\n",
            "Error de test amb tolerància 100.0: 9.6%\n",
            "Error de test amb tolerància 10000.0: 94.4%\n"
          ]
        }
      ]
    },
    {
      "cell_type": "markdown",
      "source": [
        "hem ajustat els valos, cambiant el de per defecte y hem consegut un valor millor a els valor per defecte\n"
      ],
      "metadata": {
        "id": "Q-z09j6FHJmf"
      }
    },
    {
      "cell_type": "code",
      "source": [
        "for C in (1e-2, 1e-1, 1, 1e1, 1e2):#parametre c, desregularitza el criteri de entrenament, amb valor proper a 0 posibilitat de sobre ajsut, el model s'ajusta massa a les dades , anira mal, valor per defecte 1\n",
        "    clf = LogisticRegression(C=C, random_state=23, max_iter=10000).fit(X_train, y_train)\n",
        "    err_test = 1 - accuracy_score(y_test, clf.predict(X_test))\n",
        "    print(f\"Error de test amb C {C:g}: {err_test:.1%}\")"
      ],
      "metadata": {
        "colab": {
          "base_uri": "https://localhost:8080/"
        },
        "id": "IA543jaPHzjo",
        "outputId": "b37ff067-115d-427c-c3fe-0fc4cc775075"
      },
      "execution_count": 8,
      "outputs": [
        {
          "output_type": "stream",
          "name": "stdout",
          "text": [
            "Error de test amb C 0.01: 9.6%\n",
            "Error de test amb C 0.1: 9.6%\n",
            "Error de test amb C 1: 8.8%\n",
            "Error de test amb C 10: 7.2%\n",
            "Error de test amb C 100: 7.2%\n"
          ]
        }
      ]
    },
    {
      "cell_type": "code",
      "source": [
        "for max_iter in (10, 20, 50, 100,1000,10000):\n",
        "    clf = LogisticRegression(random_state=23, max_iter=max_iter).fit(X_train, y_train)\n",
        "    err_test = 1 - accuracy_score(y_test, clf.predict(X_test))\n",
        "    print(f\"Error de test amb max_iter {max_iter}: {err_test:.1%}\")"
      ],
      "metadata": {
        "colab": {
          "base_uri": "https://localhost:8080/"
        },
        "id": "gtcHA4azIDWN",
        "outputId": "7cc116e4-6db9-4754-bf26-2da39ffa4167"
      },
      "execution_count": 9,
      "outputs": [
        {
          "output_type": "stream",
          "name": "stdout",
          "text": [
            "Error de test amb max_iter 10: 9.6%\n",
            "Error de test amb max_iter 20: 9.6%\n",
            "Error de test amb max_iter 50: 8.8%\n",
            "Error de test amb max_iter 100: 8.8%\n",
            "Error de test amb max_iter 1000: 8.8%\n",
            "Error de test amb max_iter 10000: 8.8%\n"
          ]
        }
      ]
    }
  ],
  "metadata": {
    "kernelspec": {
      "display_name": "Python 3",
      "language": "python",
      "name": "python3"
    },
    "language_info": {
      "codemirror_mode": {
        "name": "ipython",
        "version": 3
      },
      "file_extension": ".py",
      "mimetype": "text/x-python",
      "name": "python",
      "nbconvert_exporter": "python",
      "pygments_lexer": "ipython3",
      "version": "3.10.12"
    },
    "vscode": {
      "interpreter": {
        "hash": "e7370f93d1d0cde622a1f8e1c04877d8463912d04d973331ad4851f04de6915a"
      }
    },
    "colab": {
      "provenance": []
    }
  },
  "nbformat": 4,
  "nbformat_minor": 0
}