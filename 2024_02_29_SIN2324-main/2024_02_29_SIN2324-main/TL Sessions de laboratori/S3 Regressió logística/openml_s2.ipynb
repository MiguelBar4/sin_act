{
  "cells": [
    {
      "cell_type": "markdown",
      "metadata": {
        "id": "E5l1XjAwEiM8"
      },
      "source": [
        "# Regressió logística aplicada a openml,credit-g"
      ]
    },
    {
      "cell_type": "code",
      "execution_count": 1,
      "metadata": {
        "id": "mQBE7y3nEiNC"
      },
      "outputs": [],
      "source": [
        "import warnings; warnings.filterwarnings(\"ignore\"); import numpy as np\n",
        "from sklearn.datasets import fetch_openml\n",
        "from sklearn.preprocessing import LabelEncoder\n",
        "from sklearn.model_selection import train_test_split\n"
      ]
    },
    {
      "cell_type": "code",
      "source": [
        "def perceptro(X, y, b=0.1, a=1.0, K=200):\n",
        "    N, D = X.shape; Y = np.unique(y); C = Y.size; W = np.zeros((1+D, C))\n",
        "    for k in range(1, K+1):\n",
        "        E = 0\n",
        "        for n in range(N):\n",
        "            xn = np.array([1, *X[n, :]])\n",
        "            cn = np.squeeze(np.where(Y==y[n]))\n",
        "            gn = W[:,cn].T @ xn; err = False\n",
        "            for c in np.arange(C):\n",
        "                if c != cn and W[:,c].T @ xn + b >= gn:\n",
        "                    W[:, c] = W[:, c] - a*xn; err = True\n",
        "            if err:\n",
        "                W[:, cn] = W[:, cn] + a*xn; E = E + 1\n",
        "        if E == 0:\n",
        "            break;\n",
        "    return W, E, k"
      ],
      "metadata": {
        "id": "xBiS0H2-FEIU"
      },
      "execution_count": 2,
      "outputs": []
    },
    {
      "cell_type": "code",
      "source": [
        "data_id = 31 #identificador de dades en openml\n",
        "X,y = fetch_openml(data_id = data_id, return_X_y =True,as_frame =False) #importacio de les dades\n",
        "y = LabelEncoder().fit_transform(y).reshape(-1,1) #transforma cadenes en numero de clase\n",
        "mask = ~np.isnan(X).any(axis =1); X = X[mask, :]; y=y [mask] # detecta files de la matriu de dades que pugen tinde dades perdudes\n",
        "X_train, X_test, y_train, y_test = train_test_split(X, y, test_size=0.2, shuffle=True, random_state=23)\n"
      ],
      "metadata": {
        "id": "sMyzDZZLFNCw"
      },
      "execution_count": 5,
      "outputs": []
    },
    {
      "cell_type": "code",
      "execution_count": null,
      "metadata": {
        "id": "6p7ADx4BEiNE",
        "outputId": "028e2df7-2225-4e3b-cd9d-a806a7af5120",
        "colab": {
          "base_uri": "https://localhost:8080/"
        }
      },
      "outputs": [
        {
          "output_type": "stream",
          "name": "stdout",
          "text": [
            "b: 0.0 E: 301 k: 1000 err_test: 37.5%\n"
          ]
        }
      ],
      "source": [
        "for b in(.0, .1, 1,10,100,1000,10000):\n",
        "  W, E, k = perceptro(X_train, y_train, b=b, K=1000)\n",
        "  X_testh = np.hstack([np.ones((len(X_test), 1)), X_test])\n",
        "  y_test_pred  = np.argmax(X_testh @ W, axis=1).reshape(-1, 1)\n",
        "  err_test = np.count_nonzero(y_test_pred != y_test) / len(X_test)\n",
        "  print(f\"b: {b} E: {E} k: {k} err_test: {err_test:.1%}\")"
      ]
    }
  ],
  "metadata": {
    "kernelspec": {
      "display_name": "Python 3",
      "language": "python",
      "name": "python3"
    },
    "language_info": {
      "codemirror_mode": {
        "name": "ipython",
        "version": 3
      },
      "file_extension": ".py",
      "mimetype": "text/x-python",
      "name": "python",
      "nbconvert_exporter": "python",
      "pygments_lexer": "ipython3",
      "version": "3.10.12"
    },
    "orig_nbformat": 4,
    "colab": {
      "provenance": []
    }
  },
  "nbformat": 4,
  "nbformat_minor": 0
}
