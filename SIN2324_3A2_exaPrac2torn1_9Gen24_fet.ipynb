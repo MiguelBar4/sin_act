{
  "cells": [
    {
      "cell_type": "markdown",
      "metadata": {
        "id": "view-in-github",
        "colab_type": "text"
      },
      "source": [
        "<a href=\"https://colab.research.google.com/github/MiguelBar4/sin_act/blob/main/SIN2324_3A2_exaPrac2torn1_9Gen24_fet.ipynb\" target=\"_parent\"><img src=\"https://colab.research.google.com/assets/colab-badge.svg\" alt=\"Open In Colab\"/></a>"
      ]
    },
    {
      "cell_type": "markdown",
      "metadata": {
        "id": "iMW05Ga_DT7S"
      },
      "source": [
        "# SIN2324, grup de laboratori 3A2 (valencià)\n",
        "# Examen de la pràctica 2\n",
        "# Torn 1: de 8h a 8.45h del 9 de gener de 2024"
      ]
    },
    {
      "cell_type": "markdown",
      "metadata": {
        "id": "kXrkEmwjDT7Z"
      },
      "source": [
        "# Regressió logística aplicada a una tasca d'openml"
      ]
    },
    {
      "cell_type": "markdown",
      "metadata": {
        "id": "Qhpr6WuNDT7a"
      },
      "source": [
        "## 1 Preliminars\n",
        "\n",
        "Les següents cel·les de codi lligen una matriu de dades d'openml i creen d'un partició train-test per a fer experiments:"
      ]
    },
    {
      "cell_type": "code",
      "execution_count": 1,
      "metadata": {
        "id": "HgbUTfvkDT7b"
      },
      "outputs": [],
      "source": [
        "import warnings; warnings.filterwarnings(\"ignore\"); import numpy as np\n",
        "from sklearn.datasets import fetch_openml\n",
        "from sklearn.model_selection import train_test_split"
      ]
    },
    {
      "cell_type": "code",
      "execution_count": 2,
      "metadata": {
        "id": "lN8J3eFsDT7c"
      },
      "outputs": [],
      "source": [
        "data_id = 44\n",
        "X, y = fetch_openml(data_id=data_id, return_X_y=True, as_frame=False)\n",
        "mask = ~np.isnan(X).any(axis=1); X = X[mask, :]; y = y[mask]\n",
        "X_train, X_test, y_train, y_test = train_test_split(X, y, test_size=0.2, shuffle=True, random_state=23)"
      ]
    },
    {
      "cell_type": "markdown",
      "metadata": {
        "id": "MPOLlsaXDT7d"
      },
      "source": [
        "## 2 Experiment bàsic amb regressió logística\n",
        "\n",
        "Calcula l'error en test de regressió logística amb els valors per omissió que empra la implementació de sklearn:"
      ]
    },
    {
      "cell_type": "code",
      "execution_count": 3,
      "metadata": {
        "colab": {
          "base_uri": "https://localhost:8080/"
        },
        "id": "t2PoGWqBDT7d",
        "outputId": "37222685-fb10-4c47-e2b7-cbea6621f1a3"
      },
      "outputs": [
        {
          "output_type": "stream",
          "name": "stdout",
          "text": [
            "Error de test: 0.0%\n"
          ]
        }
      ],
      "source": [
        "# Escriu codi: ha d'escriure \"Error de test: <error>%\"\n",
        "from sklearn.linear_model import LogisticRegression\n",
        "from sklearn.metrics import accuracy_score  #calcular preciso\n",
        "clf = LogisticRegression(random_state=23).fit(X_train, y_train) # on esta random es fiquen els datos que vosl,, clf torna un objecte de tipo clasificador\n",
        "y_test_pred = clf.predict(X_test)# obtenim la prediccio de les mostres del test\n",
        "err_test = 1 - accuracy_score(y_test_pred, clf.predict(X_test))\n",
        "print(f\"Error de test: {err_test:.1%}\")"
      ]
    },
    {
      "cell_type": "markdown",
      "metadata": {
        "id": "yfMyxDv5DT7e"
      },
      "source": [
        "## 3 Comparació de solvers\n",
        "\n",
        "Sklearn empra el solver `solver=lbfgs` per omissió. Calcula l'error en test de regressió logística amb altres solvers i `max_iter=10000`:"
      ]
    },
    {
      "cell_type": "code",
      "execution_count": 4,
      "metadata": {
        "colab": {
          "base_uri": "https://localhost:8080/"
        },
        "id": "3A3pURTeDT7e",
        "outputId": "83fe3b35-94d3-4115-a740-bb575b4f54cb"
      },
      "outputs": [
        {
          "output_type": "stream",
          "name": "stdout",
          "text": [
            "Error de test després d'entrenar amb el solver lbfgs: 6.1%\n",
            "Error de test després d'entrenar amb el solver liblinear: 6.2%\n",
            "Error de test després d'entrenar amb el solver newton-cg: 6.2%\n",
            "Error de test després d'entrenar amb el solver newton-cholesky: 6.2%\n",
            "Error de test després d'entrenar amb el solver sag: 14.7%\n",
            "Error de test després d'entrenar amb el solver saga: 16.0%\n"
          ]
        }
      ],
      "source": [
        "# Escriu codi: per cada solver provat, ha d'escriure una línia\n",
        "# \"Error de test després d'entrenar amb el solver <solver>: <error>%\"\n",
        "for solver in ['lbfgs', 'liblinear', 'newton-cg', 'newton-cholesky', 'sag', 'saga']:#exloracio parametre solver moLT IMPORTANT\n",
        "    clf = LogisticRegression(random_state=23, solver=solver, max_iter=10000).fit(X_train, y_train)# iterracion molt elevant per assegurarte que converguix,, poques mostres es veu pos, per a lexamen demana probar diferents valos de talerancia, de solver\n",
        "    err_test = 1 - accuracy_score(y_test, clf.predict(X_test))\n",
        "    print(f\"Error de test després d'entrenar amb el solver {solver!s}: {err_test:.1%}\")"
      ]
    },
    {
      "cell_type": "markdown",
      "metadata": {
        "id": "Qv6_DJKdDT7f"
      },
      "source": [
        "**Pregunta 1:** $\\;$ L'error obtés amb `lbfgs` coincideix amb el de l'experiment bàsic? Si no, com ho expliques?"
      ]
    },
    {
      "cell_type": "markdown",
      "metadata": {
        "id": "XDNdQF8gDT7f"
      },
      "source": [
        "**Resposta 1:** $\\;$ Si ,lbfgs produeix resultats similars a l'experiment base però es interesant l'ús de la resta de solvers ja que la resta convergeixen a solucions lleugerament diferents, i cap la possibilitats que es trobe un amb un % d'error menor."
      ]
    },
    {
      "cell_type": "markdown",
      "metadata": {
        "id": "O-U0BpCSDT7f"
      },
      "source": [
        "## 4 Comparació de toleràncies\n",
        "\n",
        "Sklearn empra tolerància `tol=1e-4` per omissió. Fent ús del millor solver trobat abans i de `max_iter=10000`, calcula l'error en test de regressió logística amb toleràncies inferiors i superiors al valor per omissió:"
      ]
    },
    {
      "cell_type": "code",
      "execution_count": 5,
      "metadata": {
        "colab": {
          "base_uri": "https://localhost:8080/"
        },
        "id": "nmtY3UfMDT7f",
        "outputId": "1a65db97-79f3-42d9-f8fe-240c03045952"
      },
      "outputs": [
        {
          "output_type": "stream",
          "name": "stdout",
          "text": [
            "Error de test amb tolerància 0.0001: 6.1%\n",
            "Error de test amb tolerància 0.01: 6.1%\n",
            "Error de test amb tolerància 1: 6.1%\n",
            "Error de test amb tolerància 100.0: 8.0%\n",
            "Error de test amb tolerància 10000.0: 56.2%\n"
          ]
        }
      ],
      "source": [
        "# Escriu codi: per cada tolerància provada, ha d'escriure una línia\n",
        "# \"Error de test amb tolerància <tolerància>: <error>%\"\n",
        "for tol in (1e-4, 1e-2, 1, 1e2, 1e4):\n",
        "    clf = LogisticRegression(tol=tol, random_state=23, max_iter=10000).fit(X_train, y_train)\n",
        "    err_test = 1 - accuracy_score(y_test, clf.predict(X_test))\n",
        "    print(f\"Error de test amb tolerància {tol}: {err_test:.1%}\")"
      ]
    },
    {
      "cell_type": "markdown",
      "metadata": {
        "id": "FZE2z92NDT7g"
      },
      "source": [
        "**Pregunta 2:** $\\;$ Si la tolerància és molt elevada, el model entrenat es quedarà subajustat o sobreajustat?"
      ]
    },
    {
      "cell_type": "markdown",
      "metadata": {
        "id": "elzbQfIODT7g"
      },
      "source": [
        "**Resposta 2:** $\\;$ Si la tolerancia es molt alta, el model tendix a quedarse subajustat, ja que es dete antes de obtindre una convergencia adecuada, es a dit, la tòlerancia es pren en molts zeros, amb un error molt menut para, i a l'inversa.\n",
        "\n",
        "\n",
        "\n",
        "\n"
      ]
    },
    {
      "cell_type": "markdown",
      "metadata": {
        "id": "EPcQoMOFDT7g"
      },
      "source": [
        "## 5 Comparació de valors per a l'hiper-paràmetre `C`\n",
        "\n",
        "Sklearn empra `C=1.0` per omissió. Fent ús dels millors solver i tolerància trobats abans, i de `max_iter=10000`, calcula l'error en test de regressió logística amb valors de `C` inferiors i superiors al valor per omissió:"
      ]
    },
    {
      "cell_type": "code",
      "execution_count": 8,
      "metadata": {
        "colab": {
          "base_uri": "https://localhost:8080/"
        },
        "id": "574HA9ucDT7g",
        "outputId": "c91d8901-4cff-4e32-86ed-b593a4288263"
      },
      "outputs": [
        {
          "output_type": "stream",
          "name": "stdout",
          "text": [
            "Error de test amb C 0.01: 9.7%\n",
            "Error de test amb C 0.1: 6.5%\n",
            "Error de test amb C 1: 6.1%\n",
            "Error de test amb C 10: 5.6%\n",
            "Error de test amb C 100: 5.6%\n",
            "Error de test amb C 10000: 5.6%\n",
            "Error de test amb C 1e+06: 6.0%\n"
          ]
        }
      ],
      "source": [
        "# Escriu codi: per cada tolerància provada, ha d'escriure una línia\n",
        "# \"Error de test amb C <valor_de_C>: <error>%\"\n",
        "for C in (1e-2, 1e-1, 1, 1e1, 1e2, 1e4,1e6):#parametre c, desregularitza el criteri de entrenament, amb valor proper a 0 posibilitat de sobre ajsut, el model s'ajusta massa a les dades , anira mal, valor per defecte 1\n",
        "    clf = LogisticRegression(C=C, random_state=23, max_iter=10000).fit(X_train, y_train)\n",
        "    err_test = 1 - accuracy_score(y_test, clf.predict(X_test))\n",
        "    print(f\"Error de test amb C {C:g}: {err_test:.1%}\")"
      ]
    },
    {
      "cell_type": "markdown",
      "metadata": {
        "id": "q6-Ss4ZLDT7g"
      },
      "source": [
        "**Pregunta 3:** $\\;$ És possible millorar l'error en test amb un valor de `C` distint al d'omissió? Si sí, el valor d'omissió condueix a un model subajustat o sobreajustat?"
      ]
    },
    {
      "cell_type": "markdown",
      "metadata": {
        "id": "q13lTjogDT7g"
      },
      "source": [
        "**Resposta 3:** $\\;$ Si podem modificar el valor de c per desregularitzar si siminuim aquest valor, o regularitzar si augmentem, açò vol dir que quan més gran de 0 siga el valor hi haurà un sobre ajust a la mostra, si es menor a 0 estarà subajustat\n"
      ]
    },
    {
      "cell_type": "markdown",
      "metadata": {
        "id": "293uY117DT7g"
      },
      "source": [
        "## 6 Comparació de valors per al màxim nombre d'iteracions"
      ]
    },
    {
      "cell_type": "markdown",
      "metadata": {
        "id": "0Gj6RFXXDT7g"
      },
      "source": [
        "Sklearn empra `max_iter=100` per omissió. Ara bé, com hem fet abans, convé emprar un valor major que facilite la convergència de l'algorisme d'entrenament i interpretació de resultats. Fent ús dels millors solver, tolerància i C trobats abans, calcula l'error en test de regressió logística amb valors que incloguen 100 i 10000:"
      ]
    },
    {
      "cell_type": "code",
      "execution_count": 7,
      "metadata": {
        "colab": {
          "base_uri": "https://localhost:8080/"
        },
        "id": "u6VPAXT1DT7h",
        "outputId": "5cddd62d-50f3-49a0-cee0-e0afd8c7463b"
      },
      "outputs": [
        {
          "output_type": "stream",
          "name": "stdout",
          "text": [
            "Error de test amb max_iter 10: 55.8%\n",
            "Error de test amb max_iter 20: 17.4%\n",
            "Error de test amb max_iter 50: 10.7%\n",
            "Error de test amb max_iter 100: 7.4%\n",
            "Error de test amb max_iter 1000: 6.2%\n",
            "Error de test amb max_iter 10000: 6.1%\n"
          ]
        }
      ],
      "source": [
        "# Escriu codi: per cada valor de max_iter provat, ha d'escriure una línia\n",
        "# \"Error de test amb max_iter <valor_de_max_iter>: <error>%\"\n",
        "for max_iter in (10, 20, 50, 100,1000,10000):\n",
        "    clf = LogisticRegression(random_state=23, max_iter=max_iter).fit(X_train, y_train)\n",
        "    err_test = 1 - accuracy_score(y_test, clf.predict(X_test))\n",
        "    print(f\"Error de test amb max_iter {max_iter}: {err_test:.1%}\")"
      ]
    },
    {
      "cell_type": "markdown",
      "metadata": {
        "id": "Nt6oG9VEDT7h"
      },
      "source": [
        "**Pregunta 4:** $\\;$ Amb valors optimitzats de solver, tolerància i C, quantes iteracions cal com a mínim per a obtenir un error en test mínim?"
      ]
    },
    {
      "cell_type": "markdown",
      "metadata": {
        "id": "6NV1fzXQDT7h"
      },
      "source": [
        "**Resposta 4:** $\\;$ Per a obtindre el millor resultat es deu usar 10000 iteraccións, així combinant amb el millor solver (lbfgs), la millor tolerància (1, ja que si elegim un valor menor a pesar de que el % d'error es igual el model quedara sobreajustat) i el millor valor de c(10, ja que amb 100,1000 i 10000 s'obté el mateix % d'error pero esta massa regularitzar, sobreajustat)"
      ]
    }
  ],
  "metadata": {
    "kernelspec": {
      "display_name": "Python 3",
      "language": "python",
      "name": "python3"
    },
    "language_info": {
      "codemirror_mode": {
        "name": "ipython",
        "version": 3
      },
      "file_extension": ".py",
      "mimetype": "text/x-python",
      "name": "python",
      "nbconvert_exporter": "python",
      "pygments_lexer": "ipython3",
      "version": "3.10.12"
    },
    "orig_nbformat": 4,
    "colab": {
      "provenance": [],
      "include_colab_link": true
    }
  },
  "nbformat": 4,
  "nbformat_minor": 0
}