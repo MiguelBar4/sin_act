{
  "cells": [
    {
      "cell_type": "markdown",
      "metadata": {
        "id": "Qo1xXyTM8H-D"
      },
      "source": [
        "# Perceptró aplicat a Olivetti"
      ]
    },
    {
      "cell_type": "markdown",
      "metadata": {
        "id": "hH0fh7fW8H-I"
      },
      "source": [
        "**Lectura del corpus:** $\\;$ comprovem també que les matrius de dades i etiquetes tenes les files i columnes que toca, alabado sea jesus\n"
      ]
    },
    {
      "cell_type": "code",
      "execution_count": 10,
      "metadata": {
        "colab": {
          "base_uri": "https://localhost:8080/"
        },
        "id": "ZORYREZe8H-J",
        "outputId": "7da950b6-68a2-4abe-9eb8-bf6fd1ee9742"
      },
      "outputs": [
        {
          "output_type": "stream",
          "name": "stdout",
          "text": [
            "downloading Olivetti faces from https://ndownloader.figshare.com/files/5976027 to /root/scikit_learn_data\n",
            "(320, 4096) (80, 4096)\n"
          ]
        }
      ],
      "source": [
        "import numpy as np; from sklearn.datasets import fetch_olivetti_faces\n",
        "from sklearn.model_selection import train_test_split\n",
        "olivetti = fetch_olivetti_faces(); X = olivetti.data.astype(np.float16); X/= X.max()\n",
        "y = olivetti.target.astype(np.uint).reshape(-1, 1);\n",
        "X_train, X_test, y_train, y_test = train_test_split(X,y,test_size = 0.2, shuffle = True,random_state = 23)\n",
        "print(X_train.shape, X_test.shape)"
      ]
    },
    {
      "cell_type": "code",
      "execution_count": 12,
      "metadata": {
        "id": "vVLW8QBR8H-O"
      },
      "outputs": [],
      "source": [
        "def perceptro(X, y, b=0.1, a=1.0, K=200):\n",
        "    N, D = X.shape; Y = np.unique(y); C = Y.size; W = np.zeros((1+D, C))\n",
        "    for k in range(1, K+1):\n",
        "        E = 0\n",
        "        for n in range(N):\n",
        "            xn = np.array([1, *X[n, :]])\n",
        "            cn = np.squeeze(np.where(Y==y[n]))\n",
        "            gn = W[:,cn].T @ xn; err = False\n",
        "            for c in np.arange(C):\n",
        "                if c != cn and W[:,c].T @ xn + b >= gn:\n",
        "                    W[:, c] = W[:, c] - a*xn; err = True\n",
        "            if err:\n",
        "                W[:, cn] = W[:, cn] + a*xn; E = E + 1\n",
        "        if E == 0:\n",
        "            break;\n",
        "    return W, E, k"
      ]
    },
    {
      "cell_type": "code",
      "source": [
        "for b in(.0, .1, 1,10,100,1000,10000):\n",
        "  W, E, k = perceptro(X_train, y_train, b=b, K=1000)\n",
        "  X_testh = np.hstack([np.ones((len(X_test), 1)), X_test])\n",
        "  y_test_pred  = np.argmax(X_testh @ W, axis=1).reshape(-1, 1)\n",
        "  err_test = np.count_nonzero(y_test_pred != y_test) / len(X_test)\n",
        "  print(f\"b: {b} E: {E} k: {k} err_test: {err_test:.1%}\")"
      ],
      "metadata": {
        "colab": {
          "base_uri": "https://localhost:8080/"
        },
        "id": "3wFWDKNE-BQF",
        "outputId": "31771dfa-b8fa-40f9-b431-5aa753c99421"
      },
      "execution_count": null,
      "outputs": [
        {
          "output_type": "stream",
          "name": "stdout",
          "text": [
            "b: 0.0 E: 0 k: 48 err_test: 18.8%\n",
            "b: 0.1 E: 0 k: 42 err_test: 7.5%\n",
            "b: 1 E: 0 k: 79 err_test: 11.2%\n",
            "b: 10 E: 0 k: 45 err_test: 15.0%\n",
            "b: 100 E: 0 k: 72 err_test: 8.8%\n"
          ]
        }
      ]
    },
    {
      "cell_type": "markdown",
      "metadata": {
        "id": "MuH4KtMg8H-R"
      },
      "source": [
        "**Interpretació de resultats:** $\\;$ les dades d'entrenament no semblen linealment separables; no està clar que un marge major que zero puga millorar resultats, sobretot perquè sols tenim $30$ mostres de test; amb marge nul ja hem vist que s'obté un error (en test) del $16.7\\%$"
      ]
    }
  ],
  "metadata": {
    "kernelspec": {
      "display_name": "Python 3",
      "language": "python",
      "name": "python3"
    },
    "language_info": {
      "codemirror_mode": {
        "name": "ipython",
        "version": 3
      },
      "file_extension": ".py",
      "mimetype": "text/x-python",
      "name": "python",
      "nbconvert_exporter": "python",
      "pygments_lexer": "ipython3",
      "version": "3.11.4"
    },
    "orig_nbformat": 4,
    "colab": {
      "provenance": [],
      "toc_visible": true
    }
  },
  "nbformat": 4,
  "nbformat_minor": 0
}
